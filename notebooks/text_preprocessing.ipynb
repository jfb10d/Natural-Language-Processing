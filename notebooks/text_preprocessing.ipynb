{
  "nbformat": 4,
  "nbformat_minor": 0,
  "metadata": {
    "colab": {
      "provenance": [],
      "authorship_tag": "ABX9TyMA+sqTEwY5cELkTkvdOkgF",
      "include_colab_link": true
    },
    "kernelspec": {
      "name": "python3",
      "display_name": "Python 3"
    },
    "language_info": {
      "name": "python"
    }
  },
  "cells": [
    {
      "cell_type": "markdown",
      "metadata": {
        "id": "view-in-github",
        "colab_type": "text"
      },
      "source": [
        "<a href=\"https://colab.research.google.com/github/jfb10d/Natural-Language-Processing/blob/main/notebooks/text_preprocessing.ipynb\" target=\"_parent\"><img src=\"https://colab.research.google.com/assets/colab-badge.svg\" alt=\"Open In Colab\"/></a>"
      ]
    },
    {
      "cell_type": "code",
      "execution_count": 9,
      "metadata": {
        "id": "trApMRKIWkOG"
      },
      "outputs": [],
      "source": [
        "import nltk\n",
        "from nltk.stem import PorterStemmer\n",
        "from nltk.corpus import stopwords\n",
        "import re"
      ]
    },
    {
      "cell_type": "code",
      "source": [
        "corpus = \"\"\"\n",
        "Roger Federer (/ˈfɛdərər/ FED-ər-ər; Swiss Standard German: [ˈrɔdʒər ˈfeːdərər]; born 8 August 1981) is a Swiss former professional tennis player. He was ranked as the world No. 1 in men's singles by the Association of Tennis Professionals (ATP) for 310 weeks (second-most of all time), including a record 237 consecutive weeks, and finished as the year-end No. 1 five times. Federer won 103 singles titles on the ATP Tour, the second most since the start of the Open Era in 1968, including 20 major men's singles titles (among which a record eight men's singles Wimbledon titles, and an Open Era joint-record five men's singles US Open titles) and six year-end championships.\n",
        "\n",
        "For nearly two decades, Federer was a leading figure in men's tennis alongside Rafael Nadal and Novak Djokovic, collectively known as the Big Three. A Wimbledon junior champion in 1998 and former ball boy, Federer won his first major singles title at Wimbledon in 2003 at age 21.[3] For the next several years Federer was the dominant player in men's tennis, playing in 20 out of 24 major singles finals between 2004 and 2009. He won three of the four majors and the Tour Finals in 2004, 2006, and 2007, as well as five consecutive titles at both Wimbledon and the US Open. Federer completed the career Grand Slam at the 2009 French Open after three consecutive runner-up finishes to Nadal, his main rival until 2010. At age 27, he surpassed Pete Sampras's record of 14 major men's singles titles at Wimbledon in 2009.\n",
        "\"\"\""
      ],
      "metadata": {
        "id": "MMPJFE0iWyM6"
      },
      "execution_count": 11,
      "outputs": []
    },
    {
      "cell_type": "code",
      "source": [
        "corpus"
      ],
      "metadata": {
        "colab": {
          "base_uri": "https://localhost:8080/",
          "height": 161
        },
        "id": "WvZJc_G9XWfn",
        "outputId": "8d87fe0e-b20c-44f6-b97d-3c19ce6eecbd"
      },
      "execution_count": 12,
      "outputs": [
        {
          "output_type": "execute_result",
          "data": {
            "text/plain": [
              "\"\\nRoger Federer (/ˈfɛdərər/ FED-ər-ər; Swiss Standard German: [ˈrɔdʒər ˈfeːdərər]; born 8 August 1981) is a Swiss former professional tennis player. He was ranked as the world No. 1 in men's singles by the Association of Tennis Professionals (ATP) for 310 weeks (second-most of all time), including a record 237 consecutive weeks, and finished as the year-end No. 1 five times. Federer won 103 singles titles on the ATP Tour, the second most since the start of the Open Era in 1968, including 20 major men's singles titles (among which a record eight men's singles Wimbledon titles, and an Open Era joint-record five men's singles US Open titles) and six year-end championships.\\n\\nFor nearly two decades, Federer was a leading figure in men's tennis alongside Rafael Nadal and Novak Djokovic, collectively known as the Big Three. A Wimbledon junior champion in 1998 and former ball boy, Federer won his first major singles title at Wimbledon in 2003 at age 21.[3] For the next several years Federer was the dominant player in men's tennis, playing in 20 out of 24 major singles finals between 2004 and 2009. He won three of the four majors and the Tour Finals in 2004, 2006, and 2007, as well as five consecutive titles at both Wimbledon and the US Open. Federer completed the career Grand Slam at the 2009 French Open after three consecutive runner-up finishes to Nadal, his main rival until 2010. At age 27, he surpassed Pete Sampras's record of 14 major men's singles titles at Wimbledon in 2009.\\n\""
            ],
            "application/vnd.google.colaboratory.intrinsic+json": {
              "type": "string"
            }
          },
          "metadata": {},
          "execution_count": 12
        }
      ]
    },
    {
      "cell_type": "code",
      "source": [
        "# Tokenization\n",
        "nltk.download('punkt_tab')\n",
        "sentences = nltk.sent_tokenize(corpus)"
      ],
      "metadata": {
        "colab": {
          "base_uri": "https://localhost:8080/"
        },
        "id": "q-iZmIElXdOq",
        "outputId": "c4485e59-d236-4fed-bd54-06585b9d623b"
      },
      "execution_count": 6,
      "outputs": [
        {
          "output_type": "stream",
          "name": "stderr",
          "text": [
            "[nltk_data] Downloading package punkt_tab to /root/nltk_data...\n",
            "[nltk_data]   Unzipping tokenizers/punkt_tab.zip.\n"
          ]
        }
      ]
    },
    {
      "cell_type": "code",
      "source": [
        "corpus = []\n",
        "for i in range(len(sentences)):\n",
        "  res = re.sub('[^a-zA-Z]', ' ', sentences[i])\n",
        "  res = res.lower().split()\n",
        "  res = [lemmatizer.lemmatize(word) for word in res if not word in set(stopwords.words('english'))]\n",
        "  res = ' '.join(res)\n",
        "  corpus.append(res)\n",
        "print(corpus)\n"
      ],
      "metadata": {
        "colab": {
          "base_uri": "https://localhost:8080/"
        },
        "id": "yZHNJmXAZQ1g",
        "outputId": "b4a356c9-0a9d-4c4f-e200-4e934521d687"
      },
      "execution_count": 35,
      "outputs": [
        {
          "output_type": "stream",
          "name": "stdout",
          "text": [
            "['roger federer f r r fed r r swiss standard german r r fe r r born august swiss former professional tennis player', 'ranked world', 'men single association tennis professional atp week second time including record consecutive week finished year end', 'five time', 'federer single title atp tour second since start open era including major men single title among record eight men single wimbledon title open era joint record five men single u open title six year end championship', 'nearly two decade federer leading figure men tennis alongside rafael nadal novak djokovic collectively known big three', 'wimbledon junior champion former ball boy federer first major single title wimbledon age', 'next several year federer dominant player men tennis playing major single final', 'three four major tour final well five consecutive title wimbledon u open', 'federer completed career grand slam french open three consecutive runner finish nadal main rival', 'age surpassed pete sampras record major men single title wimbledon']\n"
          ]
        }
      ]
    },
    {
      "cell_type": "code",
      "source": [
        "# ## stemming\n",
        "# nltk.download('stopwords')\n",
        "# for i in corpus:\n",
        "#   words = nltk.word_tokenize(i)\n",
        "#   for word in words:\n",
        "#     if word not in set(stopwords.words('english')):\n",
        "#       print(stemmer.stem(word))"
      ],
      "metadata": {
        "id": "bz2nmCrRlXQY"
      },
      "execution_count": 36,
      "outputs": []
    },
    {
      "cell_type": "code",
      "source": [
        "from sklearn.feature_extraction.text import CountVectorizer\n",
        "cv = CountVectorizer(binary=True)"
      ],
      "metadata": {
        "id": "QkdHayjvnfJg"
      },
      "execution_count": 37,
      "outputs": []
    },
    {
      "cell_type": "code",
      "source": [
        "X = cv.fit_transform(corpus)\n",
        "cv.vocabulary_"
      ],
      "metadata": {
        "colab": {
          "base_uri": "https://localhost:8080/"
        },
        "id": "VZPkcaksnv8O",
        "outputId": "954a0a57-3f95-40c8-daef-8ed48054ebc2"
      },
      "execution_count": 38,
      "outputs": [
        {
          "output_type": "execute_result",
          "data": {
            "text/plain": [
              "{'roger': 57,\n",
              " 'federer': 24,\n",
              " 'fed': 23,\n",
              " 'swiss': 69,\n",
              " 'standard': 66,\n",
              " 'german': 34,\n",
              " 'fe': 22,\n",
              " 'born': 8,\n",
              " 'august': 5,\n",
              " 'former': 31,\n",
              " 'professional': 52,\n",
              " 'tennis': 70,\n",
              " 'player': 50,\n",
              " 'ranked': 54,\n",
              " 'world': 79,\n",
              " 'men': 43,\n",
              " 'single': 63,\n",
              " 'association': 3,\n",
              " 'atp': 4,\n",
              " 'week': 76,\n",
              " 'second': 60,\n",
              " 'time': 72,\n",
              " 'including': 36,\n",
              " 'record': 55,\n",
              " 'consecutive': 15,\n",
              " 'finished': 28,\n",
              " 'year': 80,\n",
              " 'end': 20,\n",
              " 'five': 30,\n",
              " 'title': 73,\n",
              " 'tour': 74,\n",
              " 'since': 62,\n",
              " 'start': 67,\n",
              " 'open': 48,\n",
              " 'era': 21,\n",
              " 'major': 42,\n",
              " 'among': 2,\n",
              " 'eight': 19,\n",
              " 'wimbledon': 78,\n",
              " 'joint': 37,\n",
              " 'six': 64,\n",
              " 'championship': 12,\n",
              " 'nearly': 45,\n",
              " 'two': 75,\n",
              " 'decade': 16,\n",
              " 'leading': 40,\n",
              " 'figure': 25,\n",
              " 'alongside': 1,\n",
              " 'rafael': 53,\n",
              " 'nadal': 44,\n",
              " 'novak': 47,\n",
              " 'djokovic': 17,\n",
              " 'collectively': 13,\n",
              " 'known': 39,\n",
              " 'big': 7,\n",
              " 'three': 71,\n",
              " 'junior': 38,\n",
              " 'champion': 11,\n",
              " 'ball': 6,\n",
              " 'boy': 9,\n",
              " 'first': 29,\n",
              " 'age': 0,\n",
              " 'next': 46,\n",
              " 'several': 61,\n",
              " 'dominant': 18,\n",
              " 'playing': 51,\n",
              " 'final': 26,\n",
              " 'four': 32,\n",
              " 'well': 77,\n",
              " 'completed': 14,\n",
              " 'career': 10,\n",
              " 'grand': 35,\n",
              " 'slam': 65,\n",
              " 'french': 33,\n",
              " 'runner': 58,\n",
              " 'finish': 27,\n",
              " 'main': 41,\n",
              " 'rival': 56,\n",
              " 'surpassed': 68,\n",
              " 'pete': 49,\n",
              " 'sampras': 59}"
            ]
          },
          "metadata": {},
          "execution_count": 38
        }
      ]
    },
    {
      "cell_type": "code",
      "source": [
        "corpus[0]"
      ],
      "metadata": {
        "colab": {
          "base_uri": "https://localhost:8080/",
          "height": 35
        },
        "id": "xp9q9m46o1a8",
        "outputId": "fe61d698-190e-415a-9422-3df41579c1ea"
      },
      "execution_count": 39,
      "outputs": [
        {
          "output_type": "execute_result",
          "data": {
            "text/plain": [
              "'roger federer f r r fed r r swiss standard german r r fe r r born august swiss former professional tennis player'"
            ],
            "application/vnd.google.colaboratory.intrinsic+json": {
              "type": "string"
            }
          },
          "metadata": {},
          "execution_count": 39
        }
      ]
    },
    {
      "cell_type": "code",
      "source": [
        "X[0].toarray()\n",
        "# 'roger' index 57 - X[0].toarray()[0][57]=1\n",
        "# 'federer' index 24 - X[0].toarray()[0][24]=1\n",
        "# 'swiss' index 69 - X[0].toarray()[0][69]=1 - 'swiss' occurred twice but since we use binary BOW, it's 1"
      ],
      "metadata": {
        "colab": {
          "base_uri": "https://localhost:8080/"
        },
        "id": "QAI602uoovcC",
        "outputId": "cf6234de-c837-463d-9785-ff5519aaca8e"
      },
      "execution_count": 40,
      "outputs": [
        {
          "output_type": "execute_result",
          "data": {
            "text/plain": [
              "array([[0, 0, 0, 0, 0, 1, 0, 0, 1, 0, 0, 0, 0, 0, 0, 0, 0, 0, 0, 0, 0, 0,\n",
              "        1, 1, 1, 0, 0, 0, 0, 0, 0, 1, 0, 0, 1, 0, 0, 0, 0, 0, 0, 0, 0, 0,\n",
              "        0, 0, 0, 0, 0, 0, 1, 0, 1, 0, 0, 0, 0, 1, 0, 0, 0, 0, 0, 0, 0, 0,\n",
              "        1, 0, 0, 1, 1, 0, 0, 0, 0, 0, 0, 0, 0, 0, 0]])"
            ]
          },
          "metadata": {},
          "execution_count": 40
        }
      ]
    },
    {
      "cell_type": "code",
      "source": [
        "X[0].toarray()[0][24]"
      ],
      "metadata": {
        "colab": {
          "base_uri": "https://localhost:8080/"
        },
        "id": "ZG4e6RA4pUis",
        "outputId": "dfae0810-c078-47bc-9f26-ebd0ee5c76e9"
      },
      "execution_count": 44,
      "outputs": [
        {
          "output_type": "execute_result",
          "data": {
            "text/plain": [
              "np.int64(1)"
            ]
          },
          "metadata": {},
          "execution_count": 44
        }
      ]
    }
  ]
}